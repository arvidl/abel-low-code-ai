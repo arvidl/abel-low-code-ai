{
  "nbformat": 4,
  "nbformat_minor": 0,
  "metadata": {
    "colab": {
      "private_outputs": true,
      "provenance": [],
      "authorship_tag": "ABX9TyO8jax4fhOfjTc5iutQwJcF",
      "include_colab_link": true
    },
    "kernelspec": {
      "name": "python3",
      "display_name": "Python 3"
    },
    "language_info": {
      "name": "python"
    }
  },
  "cells": [
    {
      "cell_type": "markdown",
      "metadata": {
        "id": "view-in-github",
        "colab_type": "text"
      },
      "source": [
        "<a href=\"https://colab.research.google.com/github/maabel0712/low-code-ai/blob/main/chapter8/keras_model.ipynb\" target=\"_parent\"><img src=\"https://colab.research.google.com/assets/colab-badge.svg\" alt=\"Open In Colab\"/></a>"
      ]
    },
    {
      "cell_type": "code",
      "execution_count": null,
      "metadata": {
        "id": "MbUVrDToEiLG"
      },
      "outputs": [],
      "source": [
        "import pandas as pd\n",
        "\n",
        "!wget -q https://storage.googleapis.com/low-code-ai-book/car_prices_train.csv\n",
        "!wget -q https://storage.googleapis.com/low-code-ai-book/car_prices_valid.csv\n",
        "!wget -q https://storage.googleapis.com/low-code-ai-book/car_prices_test.csv\n",
        "\n",
        "train_df = pd.read_csv('./car_prices_train.csv')\n",
        "y_train = train_df['sellingprice']\n",
        "X_train = train_df.drop('sellingprice', axis=1)\n",
        "\n",
        "valid_df = pd.read_csv('./car_prices_valid.csv')\n",
        "y_valid = valid_df['sellingprice']\n",
        "X_valid = valid_df.drop('sellingprice', axis=1)\n"
      ]
    },
    {
      "cell_type": "code",
      "source": [
        "import tensorflow as tf\n",
        "from tensorflow.keras.layers import StringLookup, HashedCrossing, Discretization, Concatenate\n",
        "\n",
        "cat_cols = ['make', 'model', 'trim', 'body', 'transmission', 'state',      \n",
        "            'color', 'interior']\n",
        "num_cols = ['odometer', 'year', 'condition']\n",
        "\n",
        "inputs = {}\n",
        "\n",
        "for col in cat_cols:\n",
        "  inputs[col] = tf.keras.Input(shape=(1,), name=col, \n",
        "                               dtype = tf.string)\n",
        "\n",
        "for col in num_cols:\n",
        "  inputs[col] = tf.keras.Input(shape=(1,), name=col, dtype = tf.int64)\n"
      ],
      "metadata": {
        "id": "K14aI_PzEwJC"
      },
      "execution_count": null,
      "outputs": []
    },
    {
      "cell_type": "code",
      "source": [
        "preproc_layers = {}\n",
        "for col in cat_cols:\n",
        "  layer = StringLookup(output_mode='one_hot')\n",
        "  layer.adapt(X_train[col])\n",
        "  preproc_layers[col] = layer(inputs[col])"
      ],
      "metadata": {
        "id": "YmeBPlmfFBu0"
      },
      "execution_count": null,
      "outputs": []
    },
    {
      "cell_type": "code",
      "source": [
        "for col in num_cols:\n",
        "  layer = Discretization(num_bins=10,  \n",
        "                         output_mode='one_hot')\n",
        "  layer.adapt(X_train[col])\n",
        "  preproc_layers[col] = layer(inputs[col])\n"
      ],
      "metadata": {
        "id": "tRKLQT1nFRdL"
      },
      "execution_count": null,
      "outputs": []
    },
    {
      "cell_type": "code",
      "source": [
        "model_trim = tf.keras.layers.HashedCrossing(num_bins=1000, output_mode='one_hot')((inputs['model'], inputs['trim']))\n",
        "color_int = tf.keras.layers.HashedCrossing(num_bins=400, output_mode='one_hot')((inputs['color'], inputs['interior']))\n",
        "\n",
        "preproc_layers['model_trim'] = model_trim\n",
        "preproc_layers['color_int'] = color_int"
      ],
      "metadata": {
        "id": "7fgM4vloFq9L"
      },
      "execution_count": null,
      "outputs": []
    },
    {
      "cell_type": "code",
      "source": [
        "prepared_layer = Concatenate()(preproc_layers.values())\n",
        "prepared_layer = tf.reshape(prepared_layer, [-1,3903])"
      ],
      "metadata": {
        "id": "IJt3-s2YFuhr"
      },
      "execution_count": null,
      "outputs": []
    },
    {
      "cell_type": "code",
      "source": [
        "hid_1 = tf.keras.layers.Dense(16, activation='relu')(prepared_layer)\n",
        "hid_2 = tf.keras.layers.Dense(16, activation='relu')(hid_1)\n",
        "output = tf.keras.layers.Dense(1)(hid_2)\n",
        "\n",
        "model = tf.keras.Model(inputs=inputs, outputs=output)\n",
        "\n",
        "model.compile(optimizer='adam', loss='mae')\n",
        "\n",
        "train_ds = tf.data.Dataset.from_tensor_slices((dict(X_train), y_train)).batch(100)\n",
        "valid_ds = tf.data.Dataset.from_tensor_slices((dict(X_valid), y_valid)).batch(1000)\n",
        "\n",
        "history = model.fit(\n",
        "    x=train_ds,\n",
        "    epochs=25,\n",
        "    verbose=1,\n",
        "    validation_data=valid_ds\n",
        ")\n"
      ],
      "metadata": {
        "id": "Q57EviI9GKb-"
      },
      "execution_count": null,
      "outputs": []
    },
    {
      "cell_type": "code",
      "source": [
        "!pip install -q keras-tuner"
      ],
      "metadata": {
        "id": "LJx5Q_bfHMKO"
      },
      "execution_count": null,
      "outputs": []
    },
    {
      "cell_type": "code",
      "source": [
        "import keras_tuner as kt\n",
        "from functools import partial\n",
        "\n",
        "def _build_model_fn(hp, prepared_layer):\n",
        "\n",
        "  units_1 = hp.Int('units_1', min_value=8, max_value=64, step=4)\n",
        "  units_2 = hp.Int('units_2', min_value=4, max_value=64, step=4)\n",
        "  units_3 = hp.Int('units_3', min_value=4, max_value=32, step=2)\n",
        "\n",
        "  hid_1 = tf.keras.layers.Dense(units_1,     \n",
        "                                activation='relu')(prepared_layer)\n",
        "  hid_2 = tf.keras.layers.Dense(units_2, activation='relu')(hid_1)\n",
        "  hid_3 = tf.keras.layers.Dense(units_3, activation='relu')(hid_2)\n",
        "  output = tf.keras.layers.Dense(1, activation='linear')(hid_3)\n",
        "\n",
        "  model = tf.keras.Model(inputs=inputs, outputs=output)\n",
        "\n",
        "  model.compile(optimizer='adam', loss='mae')\n",
        "\n",
        "  return model\n",
        "\n",
        "build_model = partial(_build_model_fn, prepared_layer=prepared_layer)"
      ],
      "metadata": {
        "id": "LQgGNCwgHSP1"
      },
      "execution_count": null,
      "outputs": []
    },
    {
      "cell_type": "code",
      "source": [
        "tuner = kt.BayesianOptimization(\n",
        "    build_model,\n",
        "    objective=kt.Objective(\"val_loss\", direction=\"min\"),\n",
        "    max_trials=20)\n",
        "\n",
        "tuner.search(\n",
        "    x=train_ds,\n",
        "    epochs=5,\n",
        "    verbose=1,\n",
        "    validation_data=valid_ds)"
      ],
      "metadata": {
        "id": "rhRWV4FAHmYB"
      },
      "execution_count": null,
      "outputs": []
    },
    {
      "cell_type": "code",
      "source": [
        "best_hps=tuner.get_best_hyperparameters(num_trials=1)[0]\n",
        "print('units_1:', best_hps.get('units_1'))\n",
        "print('units_2:', best_hps.get('units_2'))\n",
        "print('units_3:', best_hps.get('units_3'))"
      ],
      "metadata": {
        "id": "uZ8EX94qICzW"
      },
      "execution_count": null,
      "outputs": []
    },
    {
      "cell_type": "code",
      "source": [
        "best_model = tuner.hypermodel.build(best_hps)\n",
        "\n",
        "early_stopping = tf.keras.callbacks.EarlyStopping(monitor='val_loss', patience=5)\n",
        "\n",
        "history = best_model.fit(\n",
        "    x=train_ds,\n",
        "    epochs=1000,\n",
        "    verbose=1,\n",
        "    callbacks = [early_stopping],\n",
        "    validation_data=valid_ds\n",
        ")"
      ],
      "metadata": {
        "id": "FOImImDXIFJB"
      },
      "execution_count": null,
      "outputs": []
    },
    {
      "cell_type": "code",
      "source": [
        "test_df = pd.read_csv('./car_prices_test.csv')\n",
        "y_test = test_df['sellingprice']\n",
        "X_test = test_df.drop('sellingprice', axis=1)\n",
        "test_ds = tf.data.Dataset.from_tensor_slices(\n",
        "                                            (dict(X_test),  \n",
        "                                             y_test)).batch(1000)\n",
        "\n",
        "best_model.evaluate(test_ds)"
      ],
      "metadata": {
        "id": "Eq448rqrIIVG"
      },
      "execution_count": null,
      "outputs": []
    },
    {
      "cell_type": "code",
      "source": [],
      "metadata": {
        "id": "rLZgVp4FILr3"
      },
      "execution_count": null,
      "outputs": []
    }
  ]
}